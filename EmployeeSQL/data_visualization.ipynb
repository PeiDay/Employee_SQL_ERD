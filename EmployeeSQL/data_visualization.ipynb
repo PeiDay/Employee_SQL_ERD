{
 "cells": [
  {
   "cell_type": "code",
   "execution_count": 1,
   "id": "24cc762c",
   "metadata": {},
   "outputs": [],
   "source": [
    "# independencies \n",
    "\n",
    "import pandas as pd\n",
    "import matplotlib.pyplot as plt\n",
    "import seaborn as sns\n",
    "import psycopg2\n",
    "from config import config"
   ]
  },
  {
   "cell_type": "code",
   "execution_count": 2,
   "id": "476a9e68",
   "metadata": {},
   "outputs": [],
   "source": [
    "# connect to PostgreSQL database\n",
    "\n",
    "def query_func(sql_query):\n",
    "    \"\"\" Connect to the PostgreSQL database server \"\"\"\n",
    "    conn = None\n",
    "    \n",
    "    # read connection parameters\n",
    "    params = config()\n",
    "\n",
    "    # connect to the PostgreSQL server\n",
    "    conn = psycopg2.connect(**params)\n",
    "\n",
    "    # create a cursor\n",
    "    cur = conn.cursor()\n",
    "        \n",
    "    # execute a statement\n",
    "    cur.execute(sql_query)\n",
    "\n",
    "\n",
    "    # display the PostgreSQL database server version\n",
    "    query_data = cur.fetchall()\n",
    "       \n",
    "    # close the communication with the PostgreSQL\n",
    "    cur.close()\n",
    "    return query_data    "
   ]
  },
  {
   "cell_type": "code",
   "execution_count": 3,
   "id": "c639a532",
   "metadata": {
    "scrolled": false
   },
   "outputs": [
    {
     "data": {
      "text/html": [
       "<div>\n",
       "<style scoped>\n",
       "    .dataframe tbody tr th:only-of-type {\n",
       "        vertical-align: middle;\n",
       "    }\n",
       "\n",
       "    .dataframe tbody tr th {\n",
       "        vertical-align: top;\n",
       "    }\n",
       "\n",
       "    .dataframe thead th {\n",
       "        text-align: right;\n",
       "    }\n",
       "</style>\n",
       "<table border=\"1\" class=\"dataframe\">\n",
       "  <thead>\n",
       "    <tr style=\"text-align: right;\">\n",
       "      <th></th>\n",
       "      <th>emp_number</th>\n",
       "      <th>first_name</th>\n",
       "      <th>last_name</th>\n",
       "      <th>title</th>\n",
       "      <th>salary</th>\n",
       "    </tr>\n",
       "  </thead>\n",
       "  <tbody>\n",
       "    <tr>\n",
       "      <th>0</th>\n",
       "      <td>246449</td>\n",
       "      <td>Subbu</td>\n",
       "      <td>Bultermann</td>\n",
       "      <td>Staff</td>\n",
       "      <td>87084</td>\n",
       "    </tr>\n",
       "    <tr>\n",
       "      <th>1</th>\n",
       "      <td>67799</td>\n",
       "      <td>Pantung</td>\n",
       "      <td>Cools</td>\n",
       "      <td>Engineer</td>\n",
       "      <td>48111</td>\n",
       "    </tr>\n",
       "    <tr>\n",
       "      <th>2</th>\n",
       "      <td>299898</td>\n",
       "      <td>Munehiko</td>\n",
       "      <td>Janocha</td>\n",
       "      <td>Staff</td>\n",
       "      <td>63315</td>\n",
       "    </tr>\n",
       "    <tr>\n",
       "      <th>3</th>\n",
       "      <td>492723</td>\n",
       "      <td>Piyawadee</td>\n",
       "      <td>Sanella</td>\n",
       "      <td>Senior Engineer</td>\n",
       "      <td>46740</td>\n",
       "    </tr>\n",
       "    <tr>\n",
       "      <th>4</th>\n",
       "      <td>411614</td>\n",
       "      <td>Martins</td>\n",
       "      <td>Wynblatt</td>\n",
       "      <td>Senior Engineer</td>\n",
       "      <td>54770</td>\n",
       "    </tr>\n",
       "  </tbody>\n",
       "</table>\n",
       "</div>"
      ],
      "text/plain": [
       "  emp_number first_name   last_name            title  salary\n",
       "0     246449      Subbu  Bultermann            Staff   87084\n",
       "1      67799    Pantung       Cools         Engineer   48111\n",
       "2     299898   Munehiko     Janocha            Staff   63315\n",
       "3     492723  Piyawadee     Sanella  Senior Engineer   46740\n",
       "4     411614    Martins    Wynblatt  Senior Engineer   54770"
      ]
     },
     "execution_count": 3,
     "metadata": {},
     "output_type": "execute_result"
    }
   ],
   "source": [
    "# make query to retrive salary infomation for salary dataframe\n",
    "\n",
    "salary_query = \"SELECT a.emp_no AS emp_number, a.first_name, a.last_name, b.title, c.salary \\\n",
    "FROM employees AS a, titles AS b, salaries AS c \\\n",
    "WHERE b.title_id = a.emp_title_id AND a.emp_no = c. emp_no\"\n",
    "\n",
    "salary_data = query_func(salary_query)\n",
    "\n",
    "salary_df = pd.DataFrame(salary_data, columns = ['emp_number', 'first_name', 'last_name', 'title', 'salary'])\n",
    "\n",
    "salary_df.head()"
   ]
  },
  {
   "cell_type": "code",
   "execution_count": 13,
   "id": "cfceba3c",
   "metadata": {},
   "outputs": [
    {
     "data": {
      "image/png": "[encoded data removed]",
      "text/plain": [
       "<Figure size 540x360 with 1 Axes>"
      ]
     },
     "metadata": {},
     "output_type": "display_data"
    }
   ],
   "source": [
    "# visualize salary distributions\n",
    "\n",
    "sns.set_theme(style = 'darkgrid', rc = {'figure.figsize':(7,7)})\n",
    "\n",
    "sns.displot(kind = 'hist', data = salary_df, x = 'salary', height = 5, aspect = 1.5, \n",
    "            bins = 25, color = \"teal\", edgecolor = 'w')\n",
    "\n",
    "plt.xlabel(\"Salary\") \n",
    "plt.ylabel(\"Employee Count\") \n",
    "plt.title(\"Salary Distribution\", fontsize = 14, fontweight = \"bold\")\n",
    "\n",
    "plt.tight_layout(h_pad = 1)\n",
    "plt.grid(which = \"major\", ls =\"-\")\n",
    "\n",
    "plt.savefig(\"../images/Salary_Distribution\")\n"
   ]
  },
  {
   "cell_type": "code",
   "execution_count": 5,
   "id": "3c954028",
   "metadata": {
    "scrolled": false
   },
   "outputs": [
    {
     "data": {
      "text/html": [
       "<div>\n",
       "<style scoped>\n",
       "    .dataframe tbody tr th:only-of-type {\n",
       "        vertical-align: middle;\n",
       "    }\n",
       "\n",
       "    .dataframe tbody tr th {\n",
       "        vertical-align: top;\n",
       "    }\n",
       "\n",
       "    .dataframe thead th {\n",
       "        text-align: right;\n",
       "    }\n",
       "</style>\n",
       "<table border=\"1\" class=\"dataframe\">\n",
       "  <thead>\n",
       "    <tr style=\"text-align: right;\">\n",
       "      <th></th>\n",
       "      <th>title</th>\n",
       "      <th>avg_salary</th>\n",
       "    </tr>\n",
       "  </thead>\n",
       "  <tbody>\n",
       "    <tr>\n",
       "      <th>0</th>\n",
       "      <td>Assistant Engineer</td>\n",
       "      <td>48564.43</td>\n",
       "    </tr>\n",
       "    <tr>\n",
       "      <th>1</th>\n",
       "      <td>Engineer</td>\n",
       "      <td>48535.34</td>\n",
       "    </tr>\n",
       "    <tr>\n",
       "      <th>2</th>\n",
       "      <td>Manager</td>\n",
       "      <td>51531.04</td>\n",
       "    </tr>\n",
       "    <tr>\n",
       "      <th>3</th>\n",
       "      <td>Senior Engineer</td>\n",
       "      <td>48506.80</td>\n",
       "    </tr>\n",
       "    <tr>\n",
       "      <th>4</th>\n",
       "      <td>Senior Staff</td>\n",
       "      <td>58550.17</td>\n",
       "    </tr>\n",
       "    <tr>\n",
       "      <th>5</th>\n",
       "      <td>Staff</td>\n",
       "      <td>58465.38</td>\n",
       "    </tr>\n",
       "    <tr>\n",
       "      <th>6</th>\n",
       "      <td>Technique Leader</td>\n",
       "      <td>48582.90</td>\n",
       "    </tr>\n",
       "  </tbody>\n",
       "</table>\n",
       "</div>"
      ],
      "text/plain": [
       "                title  avg_salary\n",
       "0  Assistant Engineer    48564.43\n",
       "1            Engineer    48535.34\n",
       "2             Manager    51531.04\n",
       "3     Senior Engineer    48506.80\n",
       "4        Senior Staff    58550.17\n",
       "5               Staff    58465.38\n",
       "6    Technique Leader    48582.90"
      ]
     },
     "execution_count": 5,
     "metadata": {},
     "output_type": "execute_result"
    }
   ],
   "source": [
    "# salary data groupby titles\n",
    "\n",
    "avg_t_salary = round(salary_df.groupby(['title'], as_index = False)['salary'].mean(),2)\n",
    "avg_t_salary_df = pd.DataFrame(avg_t_salary) \n",
    "\n",
    "avg_t_salary_df = avg_t_salary_df.rename(columns = {'salary':'avg_salary'}) \n",
    "\n",
    "avg_t_salary_df"
   ]
  },
  {
   "cell_type": "code",
   "execution_count": 6,
   "id": "605393ee",
   "metadata": {},
   "outputs": [
    {
     "data": {
      "image/png": "[encoded data removed]",
      "text/plain": [
       "<Figure size 504x504 with 1 Axes>"
      ]
     },
     "metadata": {},
     "output_type": "display_data"
    }
   ],
   "source": [
    "# visualize the average salary by title\n",
    "\n",
    "sns.set_theme(style = 'darkgrid', rc = {'figure.figsize':(7,7)})\n",
    "\n",
    "ax = sns.barplot(data = avg_t_salary_df, x = 'title', y = 'avg_salary')\n",
    "\n",
    "plt.xlabel('Position Title')\n",
    "plt.ylabel('Average Salary')\n",
    "            \n",
    "plt.title('Average Salary by Title', fontsize = 14, fontweight = 'bold')\n",
    "\n",
    "plt.xticks(rotation = 45)\n",
    "\n",
    "plt.tight_layout(h_pad = 10)\n",
    "\n",
    "plt.savefig(\"../images/Salary_title\")"
   ]
  },
  {
   "cell_type": "code",
   "execution_count": 7,
   "id": "5e27809a",
   "metadata": {},
   "outputs": [
    {
     "data": {
      "text/html": [
       "<div>\n",
       "<style scoped>\n",
       "    .dataframe tbody tr th:only-of-type {\n",
       "        vertical-align: middle;\n",
       "    }\n",
       "\n",
       "    .dataframe tbody tr th {\n",
       "        vertical-align: top;\n",
       "    }\n",
       "\n",
       "    .dataframe thead th {\n",
       "        text-align: right;\n",
       "    }\n",
       "</style>\n",
       "<table border=\"1\" class=\"dataframe\">\n",
       "  <thead>\n",
       "    <tr style=\"text-align: right;\">\n",
       "      <th></th>\n",
       "      <th>Employee_number</th>\n",
       "      <th>Fisrt_name</th>\n",
       "      <th>Last_name</th>\n",
       "      <th>Salary</th>\n",
       "    </tr>\n",
       "  </thead>\n",
       "  <tbody>\n",
       "    <tr>\n",
       "      <th>0</th>\n",
       "      <td>499942</td>\n",
       "      <td>April</td>\n",
       "      <td>Foolsday</td>\n",
       "      <td>40000</td>\n",
       "    </tr>\n",
       "  </tbody>\n",
       "</table>\n",
       "</div>"
      ],
      "text/plain": [
       "  Employee_number Fisrt_name Last_name  Salary\n",
       "0          499942      April  Foolsday   40000"
      ]
     },
     "execution_count": 7,
     "metadata": {},
     "output_type": "execute_result"
    }
   ],
   "source": [
    "# make query to retrive emp_no = 499942\n",
    "\n",
    "emp_query = \"SELECT a.emp_no AS emp_number, a.first_name, a.last_name, b.salary \\\n",
    "FROM employees AS a \\\n",
    "LEFT JOIN salaries AS b \\\n",
    "ON (a.emp_no = b.emp_no) \\\n",
    "WHERE a.emp_no = '499942'\"\n",
    "\n",
    "emp_data = query_func(emp_query)\n",
    "emp_df = pd.DataFrame(emp_data, columns = ['Employee_number', 'Fisrt_name', 'Last_name', 'Salary'])\n",
    "\n",
    "\n",
    "emp_df.head()\n"
   ]
  },
  {
   "cell_type": "code",
   "execution_count": null,
   "id": "eb452c37",
   "metadata": {},
   "outputs": [],
   "source": []
  }
 ],
 "metadata": {
  "kernelspec": {
   "display_name": "Python 3",
   "language": "python",
   "name": "python3"
  },
  "language_info": {
   "codemirror_mode": {
    "name": "ipython",
    "version": 3
   },
   "file_extension": ".py",
   "mimetype": "text/x-python",
   "name": "python",
   "nbconvert_exporter": "python",
   "pygments_lexer": "ipython3",
   "version": "3.8.8"
  }
 },
 "nbformat": 4,
 "nbformat_minor": 5
}
